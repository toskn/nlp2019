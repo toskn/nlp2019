{
 "cells": [
  {
   "cell_type": "markdown",
   "metadata": {
    "colab_type": "text",
    "id": "XgrrPZLc44t4"
   },
   "source": [
    "# https://clck.ru/JC6Ea"
   ]
  },
  {
   "cell_type": "markdown",
   "metadata": {
    "colab_type": "text",
    "id": "7Jm3LqcY3Io4"
   },
   "source": [
    "## Препроцессинг и определение языка / Preprocessing and language detection\n",
    "\n",
    "Предыдущая часть была посвящена предобработке текстовых данных, теперь применим эти методы на практике и заодно узнаем, как можно решать задачу определения языка.\n",
    "\n",
    "**Идеи?**"
   ]
  },
  {
   "cell_type": "markdown",
   "metadata": {
    "colab_type": "text",
    "id": "OFMHW4Ci3Io5"
   },
   "source": [
    "Нам понадобятся некоторые пакеты для Питона, установите себе недостающие:\n",
    "* wikipedia\n",
    "* nltk"
   ]
  },
  {
   "cell_type": "code",
   "execution_count": 1,
   "metadata": {
    "colab": {
     "base_uri": "https://localhost:8080/",
     "height": 272
    },
    "colab_type": "code",
    "executionInfo": {
     "elapsed": 6236,
     "status": "ok",
     "timestamp": 1568988329195,
     "user": {
      "displayName": "Ekaterina Enikeeva",
      "photoUrl": "https://lh3.googleusercontent.com/a-/AAuE7mDpPi2nAYgMUpBsdQCKgNbc8_vU2k6n8XpypQKMzA=s64",
      "userId": "10839941398806369136"
     },
     "user_tz": -180
    },
    "id": "v9kJxTkI3Io6",
    "outputId": "fe87504b-d59e-4876-e1f6-d9b3b0cce697"
   },
   "outputs": [
    {
     "name": "stdout",
     "output_type": "stream",
     "text": [
      "Collecting wikipedia\n",
      "  Downloading https://files.pythonhosted.org/packages/67/35/25e68fbc99e672127cc6fbb14b8ec1ba3dfef035bf1e4c90f78f24a80b7d/wikipedia-1.4.0.tar.gz\n",
      "Requirement already satisfied: beautifulsoup4 in /usr/local/lib/python3.6/dist-packages (from wikipedia) (4.6.3)\n",
      "Requirement already satisfied: requests<3.0.0,>=2.0.0 in /usr/local/lib/python3.6/dist-packages (from wikipedia) (2.21.0)\n",
      "Requirement already satisfied: idna<2.9,>=2.5 in /usr/local/lib/python3.6/dist-packages (from requests<3.0.0,>=2.0.0->wikipedia) (2.8)\n",
      "Requirement already satisfied: urllib3<1.25,>=1.21.1 in /usr/local/lib/python3.6/dist-packages (from requests<3.0.0,>=2.0.0->wikipedia) (1.24.3)\n",
      "Requirement already satisfied: certifi>=2017.4.17 in /usr/local/lib/python3.6/dist-packages (from requests<3.0.0,>=2.0.0->wikipedia) (2019.6.16)\n",
      "Requirement already satisfied: chardet<3.1.0,>=3.0.2 in /usr/local/lib/python3.6/dist-packages (from requests<3.0.0,>=2.0.0->wikipedia) (3.0.4)\n",
      "Building wheels for collected packages: wikipedia\n",
      "  Building wheel for wikipedia (setup.py) ... \u001b[?25l\u001b[?25hdone\n",
      "  Created wheel for wikipedia: filename=wikipedia-1.4.0-cp36-none-any.whl size=11686 sha256=4e6843412b730a2622029e5d38490f50ba0c970dff8545106c4d6bce30d8c6c9\n",
      "  Stored in directory: /root/.cache/pip/wheels/87/2a/18/4e471fd96d12114d16fe4a446d00c3b38fb9efcb744bd31f4a\n",
      "Successfully built wikipedia\n",
      "Installing collected packages: wikipedia\n",
      "Successfully installed wikipedia-1.4.0\n"
     ]
    }
   ],
   "source": [
    "!pip install wikipedia"
   ]
  },
  {
   "cell_type": "code",
   "execution_count": 2,
   "metadata": {
    "colab": {
     "base_uri": "https://localhost:8080/",
     "height": 51
    },
    "colab_type": "code",
    "executionInfo": {
     "elapsed": 8704,
     "status": "ok",
     "timestamp": 1568988332164,
     "user": {
      "displayName": "Ekaterina Enikeeva",
      "photoUrl": "https://lh3.googleusercontent.com/a-/AAuE7mDpPi2nAYgMUpBsdQCKgNbc8_vU2k6n8XpypQKMzA=s64",
      "userId": "10839941398806369136"
     },
     "user_tz": -180
    },
    "id": "urgPFXaE3Io8",
    "outputId": "62515258-9aeb-491e-b01e-dfa56f2473fd"
   },
   "outputs": [
    {
     "name": "stdout",
     "output_type": "stream",
     "text": [
      "Requirement already satisfied: nltk in /usr/local/lib/python3.6/dist-packages (3.2.5)\n",
      "Requirement already satisfied: six in /usr/local/lib/python3.6/dist-packages (from nltk) (1.12.0)\n"
     ]
    }
   ],
   "source": [
    "!pip install nltk"
   ]
  },
  {
   "cell_type": "code",
   "execution_count": 0,
   "metadata": {
    "colab": {},
    "colab_type": "code",
    "id": "IzpLP1ve3Io-"
   },
   "outputs": [],
   "source": [
    "from collections import Counter  # нужно объяснять, что это?\n",
    "\n",
    "import nltk\n",
    "import wikipedia"
   ]
  },
  {
   "cell_type": "markdown",
   "metadata": {
    "colab_type": "text",
    "id": "VZM66tLa3IpA"
   },
   "source": [
    "Возможно, перед первым запуском `nltk` нужно скачать немного данных:"
   ]
  },
  {
   "cell_type": "code",
   "execution_count": 4,
   "metadata": {
    "colab": {
     "base_uri": "https://localhost:8080/",
     "height": 289
    },
    "colab_type": "code",
    "executionInfo": {
     "elapsed": 32889,
     "status": "ok",
     "timestamp": 1568988577522,
     "user": {
      "displayName": "Ekaterina Enikeeva",
      "photoUrl": "https://lh3.googleusercontent.com/a-/AAuE7mDpPi2nAYgMUpBsdQCKgNbc8_vU2k6n8XpypQKMzA=s64",
      "userId": "10839941398806369136"
     },
     "user_tz": -180
    },
    "id": "tCpai7Yc3IpA",
    "outputId": "c26be02a-4066-44cd-be01-43c7887ba703"
   },
   "outputs": [
    {
     "name": "stdout",
     "output_type": "stream",
     "text": [
      "NLTK Downloader\n",
      "---------------------------------------------------------------------------\n",
      "    d) Download   l) List    u) Update   c) Config   h) Help   q) Quit\n",
      "---------------------------------------------------------------------------\n",
      "Downloader> d\n",
      "\n",
      "Download which package (l=list; x=cancel)?\n",
      "  Identifier> punkt\n",
      "    Downloading package punkt to /root/nltk_data...\n",
      "      Unzipping tokenizers/punkt.zip.\n",
      "\n",
      "---------------------------------------------------------------------------\n",
      "    d) Download   l) List    u) Update   c) Config   h) Help   q) Quit\n",
      "---------------------------------------------------------------------------\n",
      "Downloader> q\n"
     ]
    },
    {
     "data": {
      "text/plain": [
       "True"
      ]
     },
     "execution_count": 4,
     "metadata": {
      "tags": []
     },
     "output_type": "execute_result"
    }
   ],
   "source": [
    "nltk.download(\"punkt\")"
   ]
  },
  {
   "cell_type": "markdown",
   "metadata": {
    "colab_type": "text",
    "id": "ABmBn1Sz3IpC"
   },
   "source": [
    "Теперь посмотрим, как можно скачивать тексты из Википедии с помощью пакета `wikipedia`."
   ]
  },
  {
   "cell_type": "code",
   "execution_count": 5,
   "metadata": {
    "colab": {
     "base_uri": "https://localhost:8080/",
     "height": 258
    },
    "colab_type": "code",
    "executionInfo": {
     "elapsed": 1611,
     "status": "ok",
     "timestamp": 1568988769838,
     "user": {
      "displayName": "Ekaterina Enikeeva",
      "photoUrl": "https://lh3.googleusercontent.com/a-/AAuE7mDpPi2nAYgMUpBsdQCKgNbc8_vU2k6n8XpypQKMzA=s64",
      "userId": "10839941398806369136"
     },
     "user_tz": -180
    },
    "id": "ZsBAih1d3IpC",
    "outputId": "99a40886-4b8b-436f-90b1-a73ee32f8cd1"
   },
   "outputs": [
    {
     "name": "stdout",
     "output_type": "stream",
     "text": [
      "Генделевский фестиваль в Гёттингене\n",
      "Генделевский фестиваль в Гёттингене\n",
      "Генделевский фестиваль в Гёттингене (нем. Internationale Händel-Festspiele Göttingen) — ежегодный фестиваль старинной музыки в Гёттингене, посвящённый в первую очередь музыке Георга Фридриха Генделя. Программа фестиваля длится не менее двух дней, в один из которых ставится одна из опер Генделя, в другой проводится концерт с исполнением нескольких его ораторий наряду с так или иначе перекликающимися с ними сочинениями современников композитора.\n",
      "Фестиваль был основан в 1920 году искусствоведом Оскаром Хагеном, по инициативе которого была впервые после почти двухсотлетнего перерыва поставлена опера Генделя «Роделинда». Под руководством Хагена в начале 1920-х гг. эстетика постановок была отмечена сильным влиянием экспрессионизма (первым сценографом фестиваля выступал Пауль Тирш), а музыка подвергалась значительным коррективам. Ранняя критика окрестила фестиваль «Генделевским Байройтом». После кризиса на рубеже десятилетий (в 1928—1933 гг. фестиваль не проводился) акцент заметно сместился в сторону исторической корректности, особенно значительным был фестиваль 1937 года, на котором приглашённым дирижёром выступил руководитель Музыкальной палаты Третьего Рейха Петер Раабе.\n",
      "В разные годы среди художественных руководителей фестиваля были Фриц Леман (1934—1953), Джон Элиот Гардинер (1981—1990), Николас Макгеган (1991—2011), Лоуренс Каммингс (с 2012 г.).\n",
      "Международный авторитет фестиваля значительно упрочило появление начиная с 1990-х гг. многочисленных записей опер и ораторий, сделанных непосредственно на фестивале или на основе подготовленных для фестиваля исполнений.\n",
      "\n",
      "\n",
      "== Примечания ==\n",
      "\n",
      "\n",
      "== Ссылки ==\n",
      "Официальный сайт\n"
     ]
    }
   ],
   "source": [
    "wikipedia.set_lang('ru')\n",
    "page_name = wikipedia.random(1)\n",
    "page = wikipedia.page(page_name)\n",
    "print(page_name)\n",
    "print(page.title)\n",
    "print(page.content)"
   ]
  },
  {
   "cell_type": "markdown",
   "metadata": {
    "colab_type": "text",
    "id": "MQRQF5n93IpE"
   },
   "source": [
    "Поскольку мы будем выбирать из нескольких языков, лучше сразу завести функцию, которая будет \n",
    "скачивать нужное количество страниц для заданного языка."
   ]
  },
  {
   "cell_type": "code",
   "execution_count": 0,
   "metadata": {
    "colab": {},
    "colab_type": "code",
    "id": "uZ0EfvHG3IpF"
   },
   "outputs": [],
   "source": [
    "TEST_LANGS = ('kk', 'ru', 'uk', 'be', 'fr')"
   ]
  },
  {
   "cell_type": "code",
   "execution_count": 0,
   "metadata": {
    "colab": {},
    "colab_type": "code",
    "id": "yA5fu5vo3IpG"
   },
   "outputs": [],
   "source": [
    "def get_texts_for_lang(lang, n=10):\n",
    "    wiki_content = []\n",
    "    wikipedia.set_lang(lang)\n",
    "    pages = wikipedia.random(n)\n",
    "    for page_name in pages:\n",
    "        try:\n",
    "            page = wikipedia.page(page_name)\n",
    "            wiki_content.append(\"%s\\n%s\" % (page.title, page.content.replace('=', '')))\n",
    "        except wikipedia.exceptions.WikipediaException:\n",
    "            print(\"Skip %s\" % page_name)\n",
    "    return wiki_content"
   ]
  },
  {
   "cell_type": "code",
   "execution_count": 8,
   "metadata": {
    "colab": {
     "base_uri": "https://localhost:8080/",
     "height": 394
    },
    "colab_type": "code",
    "executionInfo": {
     "elapsed": 180193,
     "status": "ok",
     "timestamp": 1568989351776,
     "user": {
      "displayName": "Ekaterina Enikeeva",
      "photoUrl": "https://lh3.googleusercontent.com/a-/AAuE7mDpPi2nAYgMUpBsdQCKgNbc8_vU2k6n8XpypQKMzA=s64",
      "userId": "10839941398806369136"
     },
     "user_tz": -180
    },
    "id": "6a1XLXXb3IpI",
    "outputId": "ae836aaf-325f-41ea-b006-6b6152590863"
   },
   "outputs": [
    {
     "name": "stdout",
     "output_type": "stream",
     "text": [
      "kk 50\n"
     ]
    },
    {
     "name": "stderr",
     "output_type": "stream",
     "text": [
      "/usr/local/lib/python3.6/dist-packages/wikipedia/wikipedia.py:389: UserWarning: No parser was explicitly specified, so I'm using the best available HTML parser for this system (\"lxml\"). This usually isn't a problem, but if you run this code on another system, or in a different virtual environment, it may use a different parser and behave differently.\n",
      "\n",
      "The code that caused this warning is on line 389 of the file /usr/local/lib/python3.6/dist-packages/wikipedia/wikipedia.py. To get rid of this warning, pass the additional argument 'features=\"lxml\"' to the BeautifulSoup constructor.\n",
      "\n",
      "  lis = BeautifulSoup(html).find_all('li')\n"
     ]
    },
    {
     "name": "stdout",
     "output_type": "stream",
     "text": [
      "Skip Ясеновское сельское поселение\n",
      "Skip Урбар\n",
      "Skip Холмец\n",
      "ru 47\n",
      "Skip Норт-Адамс\n",
      "Skip 1574 (значення)\n",
      "Skip Архангельська сільська рада\n",
      "Skip Мара (значення)\n",
      "uk 46\n",
      "Skip Макараўцы\n",
      "Skip Паўлаўцы\n",
      "Skip Карака (значэнні)\n",
      "Skip Ян Сапега\n",
      "be 46\n",
      "fr 50\n"
     ]
    }
   ],
   "source": [
    "wiki_texts = {}\n",
    "for lang in TEST_LANGS:\n",
    "    wiki_texts[lang] = get_texts_for_lang(lang, 50)\n",
    "    print(lang, len(wiki_texts[lang]))"
   ]
  },
  {
   "cell_type": "code",
   "execution_count": 9,
   "metadata": {
    "colab": {
     "base_uri": "https://localhost:8080/",
     "height": 530
    },
    "colab_type": "code",
    "executionInfo": {
     "elapsed": 568,
     "status": "ok",
     "timestamp": 1568989396257,
     "user": {
      "displayName": "Ekaterina Enikeeva",
      "photoUrl": "https://lh3.googleusercontent.com/a-/AAuE7mDpPi2nAYgMUpBsdQCKgNbc8_vU2k6n8XpypQKMzA=s64",
      "userId": "10839941398806369136"
     },
     "user_tz": -180
    },
    "id": "ZQmCT_J23IpL",
    "outputId": "cecab675-0382-4d17-c193-435a1acc0be5"
   },
   "outputs": [
    {
     "name": "stdout",
     "output_type": "stream",
     "text": [
      "Барақ (ит)\n",
      "Барақ - асыл текті ит тұқымының бейнелі атауы. Ілкі дәуірлерге тән археологиялық қазбаларда итті адам мүрдесінің жанына жерлегені мәлім. Бұл итті жеті қазынаға жатқызатын наным-сенімнің көне бастауы болса керек. Ежелгі түсінікте барақ пен бөрінің жігі ажыратыла бермеген, екеуі де тотемдік ұғыммен байланысты болғандықтан, көне рәміздерде, нышандық белгілерде ит-қасқыр бейнелері түркі-моңғол халықтарында кеңінен көрініс тапқан. Мәселен, «Моңғолдың құпия шежіресінде» Шыңғысханның арғы анасы Алунғуаның жатырына түнде шаңырақтан сары нұр түсіп, ол таң бозаландағанда есіктен сары ит түрінде сағымданып шығып кеткендігі,содан ананың жүкті болып қалғаны айтылады. Сонымен бірге, қырғыз халқының арғы тегі қыз бен қызыл иттің жұптасуынан таралған деген аңыз бар. Түркі халықтары балаларына барақ деген атты көп қойған. Батырларын Бараққа теңеген. Дүрегей деген ит тұқымының еркегі барақ деп аталатыны жөнінде де біршама деректер сақталған.\n",
      "\n",
      "\n",
      " Дереккөздер \n",
      "Thomas Ulmer\n",
      "Thomas Ulmer est un député européen allemand né le 25 juillet 1956 à Karlsruhe. Il est membre de l'Union chrétienne-démocrate d'Allemagne.\n",
      "\n",
      "\n",
      " Biographie \n",
      "Il a été élu député européen lors des élections européennes de 2004.\n",
      "Au cours de la 7e législature, il siège au sein du Parti populaire européen. Il est vice-président de la Délégation pour les relations avec la Suisse et la Norvège, à la commission parlementaire mixte UE-Islande et à la commission parlementaire mixte de l'Espace économique européen (EEE) depuis 2009.\n",
      "\n",
      "\n",
      " Notes et références \n",
      "\n",
      "\n",
      " Annexes \n",
      "\n",
      "\n",
      " Articles connexes \n",
      "\n",
      "Liste des députés européens d'Allemagne de la 7e législature\n",
      "Liste des députés européens d'Allemagne de la 6e législature\n",
      "\n",
      "\n",
      " Liens externes \n",
      "\n",
      "Fiche de présentation sur le site du Parlement européen. Portail de la politique   Portail de l’Allemagne   Portail de l’Union européenne\n"
     ]
    }
   ],
   "source": [
    "print(wiki_texts['kk'][0])\n",
    "print(wiki_texts['fr'][0])"
   ]
  },
  {
   "cell_type": "markdown",
   "metadata": {
    "colab_type": "text",
    "id": "UBOLiySe3IpN"
   },
   "source": [
    "**Идея 1**\n",
    "\n",
    "Можно найти самые частотные слова для каждого языка, а потом считать их количество в каждом новом тексте."
   ]
  },
  {
   "cell_type": "code",
   "execution_count": 0,
   "metadata": {
    "colab": {},
    "colab_type": "code",
    "id": "5SqFWksT3IpN"
   },
   "outputs": [],
   "source": [
    "def collect_freqlist(wiki_pages, max_len=100):\n",
    "    freqlist = Counter()\n",
    "    # не забудем про токенизацию - nltk.word_tokenize\n",
    "    for text in wiki_pages:\n",
    "        for word in nltk.word_tokenize(text.lower()):\n",
    "            if word.isalpha():\n",
    "                freqlist[word] += 1\n",
    "    return dict(freqlist.most_common(max_len))"
   ]
  },
  {
   "cell_type": "code",
   "execution_count": 22,
   "metadata": {
    "colab": {
     "base_uri": "https://localhost:8080/",
     "height": 1000
    },
    "colab_type": "code",
    "executionInfo": {
     "elapsed": 986,
     "status": "ok",
     "timestamp": 1568990123911,
     "user": {
      "displayName": "Ekaterina Enikeeva",
      "photoUrl": "https://lh3.googleusercontent.com/a-/AAuE7mDpPi2nAYgMUpBsdQCKgNbc8_vU2k6n8XpypQKMzA=s64",
      "userId": "10839941398806369136"
     },
     "user_tz": -180
    },
    "id": "Yrb4JNpk3IpQ",
    "outputId": "17cb66b1-8060-40a0-8048-5dfa1892bf75"
   },
   "outputs": [
    {
     "data": {
      "text/plain": [
       "{'isbn': 21,\n",
       " 'me': 18,\n",
       " 'the': 39,\n",
       " 'а': 74,\n",
       " 'альбом': 31,\n",
       " 'англ': 18,\n",
       " 'был': 97,\n",
       " 'была': 35,\n",
       " 'были': 43,\n",
       " 'было': 40,\n",
       " 'в': 1055,\n",
       " 'вместе': 16,\n",
       " 'во': 34,\n",
       " 'время': 34,\n",
       " 'где': 26,\n",
       " 'год': 19,\n",
       " 'года': 192,\n",
       " 'годах': 18,\n",
       " 'году': 106,\n",
       " 'два': 17,\n",
       " 'движения': 29,\n",
       " 'деревня': 29,\n",
       " 'деятельность': 18,\n",
       " 'для': 60,\n",
       " 'до': 57,\n",
       " 'его': 97,\n",
       " 'её': 19,\n",
       " 'же': 22,\n",
       " 'жизни': 16,\n",
       " 'за': 77,\n",
       " 'и': 643,\n",
       " 'из': 131,\n",
       " 'или': 27,\n",
       " 'им': 20,\n",
       " 'имени': 19,\n",
       " 'искусства': 16,\n",
       " 'истории': 23,\n",
       " 'история': 21,\n",
       " 'их': 19,\n",
       " 'к': 106,\n",
       " 'как': 82,\n",
       " 'км': 29,\n",
       " 'константин': 17,\n",
       " 'которого': 17,\n",
       " 'которые': 16,\n",
       " 'который': 21,\n",
       " 'которых': 20,\n",
       " 'культуры': 19,\n",
       " 'магнитудой': 20,\n",
       " 'марта': 19,\n",
       " 'михаила': 19,\n",
       " 'москве': 16,\n",
       " 'на': 350,\n",
       " 'не': 106,\n",
       " 'несколько': 16,\n",
       " 'николас': 16,\n",
       " 'но': 35,\n",
       " 'нод': 62,\n",
       " 'о': 55,\n",
       " 'области': 26,\n",
       " 'однако': 27,\n",
       " 'около': 18,\n",
       " 'он': 71,\n",
       " 'от': 88,\n",
       " 'по': 197,\n",
       " 'под': 31,\n",
       " 'получил': 16,\n",
       " 'после': 46,\n",
       " 'при': 37,\n",
       " 'примечания': 34,\n",
       " 'пушкина': 26,\n",
       " 'режиссёр': 28,\n",
       " 'реки': 27,\n",
       " 'роль': 16,\n",
       " 'россии': 28,\n",
       " 'с': 276,\n",
       " 'сайте': 18,\n",
       " 'своей': 23,\n",
       " 'со': 23,\n",
       " 'состав': 16,\n",
       " 'ссылки': 27,\n",
       " 'так': 19,\n",
       " 'также': 66,\n",
       " 'театр': 18,\n",
       " 'то': 16,\n",
       " 'того': 18,\n",
       " 'том': 17,\n",
       " 'у': 26,\n",
       " 'февраля': 16,\n",
       " 'части': 16,\n",
       " 'часть': 20,\n",
       " 'человек': 28,\n",
       " 'через': 20,\n",
       " 'что': 89,\n",
       " 'шакур': 46,\n",
       " 'шакура': 31,\n",
       " 'это': 25,\n",
       " 'этом': 19,\n",
       " 'я': 19,\n",
       " 'является': 32}"
      ]
     },
     "execution_count": 22,
     "metadata": {
      "tags": []
     },
     "output_type": "execute_result"
    }
   ],
   "source": [
    "# проверка\n",
    "collect_freqlist(wiki_texts['ru'])"
   ]
  },
  {
   "cell_type": "code",
   "execution_count": 0,
   "metadata": {
    "colab": {},
    "colab_type": "code",
    "id": "PVCHWvJ53IpR"
   },
   "outputs": [],
   "source": [
    "freq_lists = {}\n",
    "for lang in TEST_LANGS:\n",
    "    freq_lists[lang] = collect_freqlist(wiki_texts[lang])"
   ]
  },
  {
   "cell_type": "markdown",
   "metadata": {
    "colab_type": "text",
    "id": "twrmWoH-3IpT"
   },
   "source": [
    "Теперь всё готово, чтобы сделать первую определялку языка!"
   ]
  },
  {
   "cell_type": "code",
   "execution_count": 0,
   "metadata": {
    "colab": {},
    "colab_type": "code",
    "id": "s303QEYg3IpT"
   },
   "outputs": [],
   "source": [
    "def simple_lang_detect(freq_lists, text):\n",
    "    counts = Counter()\n",
    "    for lang, freq_list in freq_lists.items():\n",
    "        freq_list = Counter(freq_list)\n",
    "        for word in nltk.word_tokenize(text):\n",
    "            counts[lang] += int(freq_list[word] > 0)\n",
    "    return counts.most_common()"
   ]
  },
  {
   "cell_type": "code",
   "execution_count": 25,
   "metadata": {
    "colab": {
     "base_uri": "https://localhost:8080/",
     "height": 428
    },
    "colab_type": "code",
    "executionInfo": {
     "elapsed": 7533,
     "status": "ok",
     "timestamp": 1568990404963,
     "user": {
      "displayName": "Ekaterina Enikeeva",
      "photoUrl": "https://lh3.googleusercontent.com/a-/AAuE7mDpPi2nAYgMUpBsdQCKgNbc8_vU2k6n8XpypQKMzA=s64",
      "userId": "10839941398806369136"
     },
     "user_tz": -180
    },
    "id": "R3CtzkM73IpV",
    "outputId": "37ae567b-10c4-4599-f8dd-01b8dd2c64fc"
   },
   "outputs": [
    {
     "name": "stderr",
     "output_type": "stream",
     "text": [
      "/usr/local/lib/python3.6/dist-packages/wikipedia/wikipedia.py:389: UserWarning: No parser was explicitly specified, so I'm using the best available HTML parser for this system (\"lxml\"). This usually isn't a problem, but if you run this code on another system, or in a different virtual environment, it may use a different parser and behave differently.\n",
      "\n",
      "The code that caused this warning is on line 389 of the file /usr/local/lib/python3.6/dist-packages/wikipedia/wikipedia.py. To get rid of this warning, pass the additional argument 'features=\"lxml\"' to the BeautifulSoup constructor.\n",
      "\n",
      "  lis = BeautifulSoup(html).find_all('li')\n"
     ]
    },
    {
     "name": "stdout",
     "output_type": "stream",
     "text": [
      "Skip Głogówko\n",
      "Rovescala\n",
      "Rovescala est une commune italienne de la province de Pavie dans la région Lombardie en Italie.\n",
      "\n",
      "\n",
      " Administration \n",
      "\n",
      "\n",
      " Hameaux \n",
      "\n",
      "\n",
      " Communes limitrophes \n",
      "Castel San Giovanni, Montù Beccaria, San Damiano al Colle, Santa Maria della Versa, Ziano Piacentino\n",
      "\n",
      "\n",
      " Notes et références \n",
      "\n",
      " Portail de la Lombardie\n"
     ]
    }
   ],
   "source": [
    "test_texts = get_texts_for_lang('fr')[0]\n",
    "print(test_texts)"
   ]
  },
  {
   "cell_type": "code",
   "execution_count": 26,
   "metadata": {
    "colab": {
     "base_uri": "https://localhost:8080/",
     "height": 34
    },
    "colab_type": "code",
    "executionInfo": {
     "elapsed": 362,
     "status": "ok",
     "timestamp": 1568990423832,
     "user": {
      "displayName": "Ekaterina Enikeeva",
      "photoUrl": "https://lh3.googleusercontent.com/a-/AAuE7mDpPi2nAYgMUpBsdQCKgNbc8_vU2k6n8XpypQKMzA=s64",
      "userId": "10839941398806369136"
     },
     "user_tz": -180
    },
    "id": "u6Z7VdXI3IpW",
    "outputId": "a3dc58a6-9785-44fe-c82d-8c29bb2e9bd4"
   },
   "outputs": [
    {
     "data": {
      "text/plain": [
       "[('fr', 12), ('kk', 3), ('ru', 0), ('uk', 0), ('be', 0)]"
      ]
     },
     "execution_count": 26,
     "metadata": {
      "tags": []
     },
     "output_type": "execute_result"
    }
   ],
   "source": [
    "simple_lang_detect(freq_lists, test_texts)"
   ]
  },
  {
   "cell_type": "markdown",
   "metadata": {
    "colab_type": "text",
    "id": "fnfJHW843IpY"
   },
   "source": [
    "Попробуем оценить качество нашей определялки. Для этого установим `sklearn`, если его ещё нет, и возьмем оттуда функцию для подсчёта accuracy."
   ]
  },
  {
   "cell_type": "code",
   "execution_count": 27,
   "metadata": {
    "colab": {
     "base_uri": "https://localhost:8080/",
     "height": 102
    },
    "colab_type": "code",
    "executionInfo": {
     "elapsed": 3685,
     "status": "ok",
     "timestamp": 1568990559267,
     "user": {
      "displayName": "Ekaterina Enikeeva",
      "photoUrl": "https://lh3.googleusercontent.com/a-/AAuE7mDpPi2nAYgMUpBsdQCKgNbc8_vU2k6n8XpypQKMzA=s64",
      "userId": "10839941398806369136"
     },
     "user_tz": -180
    },
    "id": "y9kUURxH3IpY",
    "outputId": "f150d9a6-b47b-4e89-d6f6-832579861799"
   },
   "outputs": [
    {
     "name": "stdout",
     "output_type": "stream",
     "text": [
      "Requirement already satisfied: sklearn in /usr/local/lib/python3.6/dist-packages (0.0)\n",
      "Requirement already satisfied: scikit-learn in /usr/local/lib/python3.6/dist-packages (from sklearn) (0.21.3)\n",
      "Requirement already satisfied: scipy>=0.17.0 in /usr/local/lib/python3.6/dist-packages (from scikit-learn->sklearn) (1.3.1)\n",
      "Requirement already satisfied: joblib>=0.11 in /usr/local/lib/python3.6/dist-packages (from scikit-learn->sklearn) (0.13.2)\n",
      "Requirement already satisfied: numpy>=1.11.0 in /usr/local/lib/python3.6/dist-packages (from scikit-learn->sklearn) (1.16.5)\n"
     ]
    }
   ],
   "source": [
    "!pip install sklearn"
   ]
  },
  {
   "cell_type": "code",
   "execution_count": 0,
   "metadata": {
    "colab": {},
    "colab_type": "code",
    "id": "Q25dDPmw3IpZ"
   },
   "outputs": [],
   "source": [
    "from sklearn.metrics import accuracy_score"
   ]
  },
  {
   "cell_type": "code",
   "execution_count": 0,
   "metadata": {
    "colab": {},
    "colab_type": "code",
    "id": "3ullc9-O3Ipb"
   },
   "outputs": [],
   "source": [
    "def test_simple_lang_detect(freq_lists, test_size):\n",
    "    results = []  # сюда будем писать результаты\n",
    "    gold = []     # сюда будем писать исходный язык\n",
    "    for lang in TEST_LANGS:\n",
    "        for text in get_texts_for_lang(lang, test_size):\n",
    "            predicted_lang = simple_lang_detect(freq_lists, text)[0][0]\n",
    "            results.append(predicted_lang)\n",
    "            gold.append(lang)\n",
    "    print(\"RESULTS:\")\n",
    "    print(\"%d languages\" % len(TEST_LANGS))\n",
    "    print(\"Test size: %d texts per language\" % test_size)\n",
    "    print(\"Accuracy: %.4f\" % accuracy_score(results, gold))"
   ]
  },
  {
   "cell_type": "code",
   "execution_count": 33,
   "metadata": {
    "colab": {
     "base_uri": "https://localhost:8080/",
     "height": 241
    },
    "colab_type": "code",
    "executionInfo": {
     "elapsed": 36878,
     "status": "ok",
     "timestamp": 1568990818821,
     "user": {
      "displayName": "Ekaterina Enikeeva",
      "photoUrl": "https://lh3.googleusercontent.com/a-/AAuE7mDpPi2nAYgMUpBsdQCKgNbc8_vU2k6n8XpypQKMzA=s64",
      "userId": "10839941398806369136"
     },
     "user_tz": -180
    },
    "id": "MDavJybX3Ipd",
    "outputId": "97dad5d4-7ab3-4ace-f63e-22d2bbe405dc"
   },
   "outputs": [
    {
     "name": "stdout",
     "output_type": "stream",
     "text": [
      "Skip Виноградовское сельское поселение (Приморский край)\n"
     ]
    },
    {
     "name": "stderr",
     "output_type": "stream",
     "text": [
      "/usr/local/lib/python3.6/dist-packages/wikipedia/wikipedia.py:389: UserWarning: No parser was explicitly specified, so I'm using the best available HTML parser for this system (\"lxml\"). This usually isn't a problem, but if you run this code on another system, or in a different virtual environment, it may use a different parser and behave differently.\n",
      "\n",
      "The code that caused this warning is on line 389 of the file /usr/local/lib/python3.6/dist-packages/wikipedia/wikipedia.py. To get rid of this warning, pass the additional argument 'features=\"lxml\"' to the BeautifulSoup constructor.\n",
      "\n",
      "  lis = BeautifulSoup(html).find_all('li')\n"
     ]
    },
    {
     "name": "stdout",
     "output_type": "stream",
     "text": [
      "Skip Сайра\n",
      "Skip Вячорка\n",
      "RESULTS:\n",
      "5 languages\n",
      "Test size: 10 texts per language\n",
      "Accuracy: 0.9574\n"
     ]
    }
   ],
   "source": [
    "# проверка\n",
    "test_simple_lang_detect(freq_lists, 10)"
   ]
  },
  {
   "cell_type": "markdown",
   "metadata": {
    "colab_type": "text",
    "id": "TiXZGRXM3Ipf"
   },
   "source": [
    "## Машинное обучение\n",
    "\n",
    "Будем говорить о **supervised** методах (обучение с учителем):\n",
    "\n",
    "* У нас есть пары `(признаки, класс)`\n",
    "* Классификатор обучается на них — подбирает подходящую функцию отображения признаков в множество классов\n",
    "* После этого можно применять полученную модель для предсказаний на новых данных\n",
    "\n",
    "Признаки могут быть разные:\n",
    "* средняя длина слова\n",
    "* минимальная длина слова\n",
    "* максимальная длина слова\n",
    "* …"
   ]
  },
  {
   "cell_type": "markdown",
   "metadata": {
    "colab_type": "text",
    "id": "MWOfXYQb3Ipg"
   },
   "source": [
    "Для определения языка часто используют не слова, а последовательности символов (символьные энграммы / character ngrams). Например, 3-граммы:\n",
    "```\n",
    "сим, имв, мво, вол, оло, лов\n",
    "```\n",
    "\n",
    "Из обучающих данных соберем словарь символьных энграмм $V$. \n",
    "Тогда каждый текст сможем представить в виде вектора длины $|V|$, где каждый признак показывает, присутствует ли соответствующая энграмма в тексте. Если эти значения будут просто $0$/$1$, то не учитывается \"важность\" последовательности для языка.\n",
    "\n",
    "Будем использовать $tf \\cdot idf$:\n",
    "\n",
    "$tf \\cdot idf (n, d) = \\frac{count(n_d)}{\\sum_{w \\in d}count(w)} \\cdot log\\frac{|D|}{|\\{d \\in D | n \\in d\\}|}$\n",
    "\n",
    "где $n$ - энграмма, $d$ - документ, а $D$ - весь корпус (на данном языке)"
   ]
  },
  {
   "cell_type": "code",
   "execution_count": 34,
   "metadata": {
    "colab": {
     "base_uri": "https://localhost:8080/",
     "height": 1000
    },
    "colab_type": "code",
    "executionInfo": {
     "elapsed": 1881,
     "status": "ok",
     "timestamp": 1568991119503,
     "user": {
      "displayName": "Ekaterina Enikeeva",
      "photoUrl": "https://lh3.googleusercontent.com/a-/AAuE7mDpPi2nAYgMUpBsdQCKgNbc8_vU2k6n8XpypQKMzA=s64",
      "userId": "10839941398806369136"
     },
     "user_tz": -180
    },
    "id": "QYCDVKsX3Iph",
    "outputId": "624ee149-b748-41ab-f7d0-1c908c7d0a3b"
   },
   "outputs": [
    {
     "name": "stdout",
     "output_type": "stream",
     "text": [
      "\n",
      "\n",
      "\n",
      ".\n",
      "\n",
      ". \n",
      "\n",
      ". д\n",
      "\n",
      ". дл\n",
      "\n",
      "1\n",
      "\n",
      "11\n",
      "\n",
      "11 \n",
      "\n",
      "11 д\n",
      "\n",
      "12\n",
      "\n",
      "12 \n",
      "\n",
      "12 м\n",
      "\n",
      "19\n",
      "\n",
      "196\n",
      "\n",
      "1963\n",
      "\n",
      "1964\n",
      "\n",
      "1965\n",
      "\n",
      "1966\n",
      "\n",
      "1968\n",
      "\n",
      "1969\n",
      "\n",
      "197\n",
      "\n",
      "1970\n",
      "\n",
      "1971\n",
      "\n",
      "1972\n",
      "\n",
      "1973\n",
      "\n",
      "1974\n",
      "\n",
      "1975\n",
      "\n",
      "1976\n",
      "\n",
      "1978\n",
      "\n",
      "198\n",
      "\n",
      "1980\n",
      "\n",
      "1984\n",
      "\n",
      "1985\n",
      "\n",
      "199\n",
      "\n",
      "1995\n",
      "\n",
      "1996\n",
      "\n",
      "1997\n",
      "\n",
      "1998\n",
      "\n",
      "1999\n",
      "\n",
      "2\n",
      "\n",
      "20\n",
      "\n",
      "20 \n",
      "\n",
      "20 и\n",
      "\n",
      "200\n",
      "\n",
      "2001\n",
      "\n",
      "2002\n",
      "\n",
      "2003\n",
      "\n",
      "2004\n",
      "\n",
      "2005\n",
      "\n",
      "2006\n",
      "\n",
      "2007\n",
      "\n",
      "2008\n",
      "\n",
      "2009\n",
      "\n",
      "201\n",
      "\n",
      "2010\n",
      "\n",
      "2011\n",
      "\n",
      "2012\n",
      "\n",
      "2013\n",
      "\n",
      "2014\n",
      "\n",
      "2015\n",
      "\n",
      "2016\n",
      "\n",
      "2017\n",
      "\n",
      "2018\n",
      "\n",
      "2019\n",
      "\n",
      "25\n",
      "\n",
      "25-\n",
      "\n",
      "25-л\n",
      "\n",
      "26\n",
      "\n",
      "26 \n",
      "\n",
      "26 и\n",
      "\n",
      "4\n",
      "\n",
      "4 \n",
      "\n",
      "4 м\n",
      "\n",
      "4 ма\n",
      "\n",
      "46\n",
      "\n",
      "46-\n",
      "\n",
      "46-й\n",
      "\n",
      "8\n",
      "\n",
      "8 \n",
      "\n",
      "8 ф\n",
      "\n",
      "8 фе\n",
      "\n",
      "9\n",
      "\n",
      "9 \n",
      "\n",
      "9 а\n",
      "\n",
      "9 ап\n",
      "\n",
      "9 н\n",
      "\n",
      "9 но\n",
      "\n",
      "a\n",
      "\n",
      "al\n",
      "\n",
      "all\n",
      "\n",
      "all \n",
      "\n",
      "b\n",
      "\n",
      "be\n",
      "\n",
      "bet\n",
      "\n",
      "bett\n",
      "\n",
      "c\n",
      "\n",
      "c \n",
      "\n",
      "c 1\n",
      "\n",
      "c 1 \n",
      "\n",
      "cg\n"
     ]
    }
   ],
   "source": [
    "from sklearn import feature_extraction\n",
    "\n",
    "vectorizer = feature_extraction.text.TfidfVectorizer(ngram_range=(1, 5), analyzer='char')\n",
    "vectorizer.fit(wiki_texts['ru'])\n",
    "for item in vectorizer.get_feature_names()[:100]:\n",
    "    print(item)"
   ]
  },
  {
   "cell_type": "code",
   "execution_count": 35,
   "metadata": {
    "colab": {
     "base_uri": "https://localhost:8080/",
     "height": 884
    },
    "colab_type": "code",
    "executionInfo": {
     "elapsed": 1197,
     "status": "ok",
     "timestamp": 1568991145252,
     "user": {
      "displayName": "Ekaterina Enikeeva",
      "photoUrl": "https://lh3.googleusercontent.com/a-/AAuE7mDpPi2nAYgMUpBsdQCKgNbc8_vU2k6n8XpypQKMzA=s64",
      "userId": "10839941398806369136"
     },
     "user_tz": -180
    },
    "id": "7WHMuiAF3Ipj",
    "outputId": "da74f788-4654-43cf-ea42-f8dcf410abfc"
   },
   "outputs": [
    {
     "name": "stdout",
     "output_type": "stream",
     "text": [
      "  (0, 128664)\t0.0007484019916797908\n",
      "  (0, 128663)\t0.0007484019916797908\n",
      "  (0, 128662)\t0.0007484019916797908\n",
      "  (0, 128661)\t0.0007484019916797908\n",
      "  (0, 128650)\t0.0007484019916797908\n",
      "  (0, 128649)\t0.0007484019916797908\n",
      "  (0, 128648)\t0.0007484019916797908\n",
      "  (0, 128636)\t0.0005516109357697634\n",
      "  (0, 128631)\t0.0010479967928373186\n",
      "  (0, 128630)\t0.0007484019916797908\n",
      "  (0, 128629)\t0.0007484019916797908\n",
      "  (0, 128628)\t0.0007484019916797908\n",
      "  (0, 128627)\t0.0007484019916797908\n",
      "  (0, 128622)\t0.0007484019916797908\n",
      "  (0, 128621)\t0.0007484019916797908\n",
      "  (0, 128620)\t0.0007484019916797908\n",
      "  (0, 128616)\t0.0006757722681801439\n",
      "  (0, 128600)\t0.0007484019916797908\n",
      "  (0, 128599)\t0.0007484019916797908\n",
      "  (0, 128596)\t0.0006757722681801439\n",
      "  (0, 128592)\t0.0006242406592694103\n",
      "  (0, 128588)\t0.0007484019916797908\n",
      "  (0, 128587)\t0.0007484019916797908\n",
      "  (0, 128586)\t0.0007484019916797908\n",
      "  (0, 128585)\t0.0006757722681801439\n",
      "  :\t:\n",
      "  (0, 154)\t0.0007484019916797908\n",
      "  (0, 153)\t0.0007484019916797908\n",
      "  (0, 152)\t0.0006757722681801439\n",
      "  (0, 151)\t0.0006757722681801439\n",
      "  (0, 147)\t0.0007484019916797908\n",
      "  (0, 146)\t0.0007484019916797908\n",
      "  (0, 145)\t0.0007484019916797908\n",
      "  (0, 144)\t0.0006757722681801439\n",
      "  (0, 143)\t0.0007484019916797908\n",
      "  (0, 142)\t0.0007484019916797908\n",
      "  (0, 139)\t0.0006757722681801439\n",
      "  (0, 133)\t0.0006242406592694103\n",
      "  (0, 128)\t0.0007484019916797908\n",
      "  (0, 127)\t0.0007484019916797908\n",
      "  (0, 126)\t0.0007484019916797908\n",
      "  (0, 125)\t0.0007484019916797908\n",
      "  (0, 94)\t0.0007484019916797908\n",
      "  (0, 93)\t0.0007484019916797908\n",
      "  (0, 92)\t0.0007484019916797908\n",
      "  (0, 91)\t0.0007484019916797908\n",
      "  (0, 90)\t0.0007484019916797908\n",
      "  (0, 89)\t0.0007484019916797908\n",
      "  (0, 88)\t0.0007484019916797908\n",
      "  (0, 87)\t0.0007484019916797908\n",
      "  (0, 0)\t0.0026869040780793303\n"
     ]
    }
   ],
   "source": [
    "print(vectorizer.transform(wiki_texts['ru'])[0])  # первый документ в векторном представлении"
   ]
  },
  {
   "cell_type": "code",
   "execution_count": 36,
   "metadata": {
    "colab": {
     "base_uri": "https://localhost:8080/",
     "height": 357
    },
    "colab_type": "code",
    "executionInfo": {
     "elapsed": 6277,
     "status": "ok",
     "timestamp": 1568991189618,
     "user": {
      "displayName": "Ekaterina Enikeeva",
      "photoUrl": "https://lh3.googleusercontent.com/a-/AAuE7mDpPi2nAYgMUpBsdQCKgNbc8_vU2k6n8XpypQKMzA=s64",
      "userId": "10839941398806369136"
     },
     "user_tz": -180
    },
    "id": "CTmIMc9A3Ipl",
    "outputId": "d6109adf-ec1c-4222-f9d1-593df16727d4"
   },
   "outputs": [
    {
     "name": "stdout",
     "output_type": "stream",
     "text": [
      "Requirement already satisfied: matplotlib==3.0.3 in /usr/local/lib/python3.6/dist-packages (3.0.3)\n",
      "Requirement already satisfied: numpy>=1.10.0 in /usr/local/lib/python3.6/dist-packages (from matplotlib==3.0.3) (1.16.5)\n",
      "Requirement already satisfied: python-dateutil>=2.1 in /usr/local/lib/python3.6/dist-packages (from matplotlib==3.0.3) (2.5.3)\n",
      "Requirement already satisfied: cycler>=0.10 in /usr/local/lib/python3.6/dist-packages (from matplotlib==3.0.3) (0.10.0)\n",
      "Requirement already satisfied: pyparsing!=2.0.4,!=2.1.2,!=2.1.6,>=2.0.1 in /usr/local/lib/python3.6/dist-packages (from matplotlib==3.0.3) (2.4.2)\n",
      "Requirement already satisfied: kiwisolver>=1.0.1 in /usr/local/lib/python3.6/dist-packages (from matplotlib==3.0.3) (1.1.0)\n",
      "Requirement already satisfied: six>=1.5 in /usr/local/lib/python3.6/dist-packages (from python-dateutil>=2.1->matplotlib==3.0.3) (1.12.0)\n",
      "Requirement already satisfied: setuptools in /usr/local/lib/python3.6/dist-packages (from kiwisolver>=1.0.1->matplotlib==3.0.3) (41.2.0)\n",
      "Requirement already satisfied: seaborn in /usr/local/lib/python3.6/dist-packages (0.9.0)\n",
      "Requirement already satisfied: matplotlib>=1.4.3 in /usr/local/lib/python3.6/dist-packages (from seaborn) (3.0.3)\n",
      "Requirement already satisfied: numpy>=1.9.3 in /usr/local/lib/python3.6/dist-packages (from seaborn) (1.16.5)\n",
      "Requirement already satisfied: pandas>=0.15.2 in /usr/local/lib/python3.6/dist-packages (from seaborn) (0.24.2)\n",
      "Requirement already satisfied: scipy>=0.14.0 in /usr/local/lib/python3.6/dist-packages (from seaborn) (1.3.1)\n",
      "Requirement already satisfied: cycler>=0.10 in /usr/local/lib/python3.6/dist-packages (from matplotlib>=1.4.3->seaborn) (0.10.0)\n",
      "Requirement already satisfied: kiwisolver>=1.0.1 in /usr/local/lib/python3.6/dist-packages (from matplotlib>=1.4.3->seaborn) (1.1.0)\n",
      "Requirement already satisfied: pyparsing!=2.0.4,!=2.1.2,!=2.1.6,>=2.0.1 in /usr/local/lib/python3.6/dist-packages (from matplotlib>=1.4.3->seaborn) (2.4.2)\n",
      "Requirement already satisfied: python-dateutil>=2.1 in /usr/local/lib/python3.6/dist-packages (from matplotlib>=1.4.3->seaborn) (2.5.3)\n",
      "Requirement already satisfied: pytz>=2011k in /usr/local/lib/python3.6/dist-packages (from pandas>=0.15.2->seaborn) (2018.9)\n",
      "Requirement already satisfied: six in /usr/local/lib/python3.6/dist-packages (from cycler>=0.10->matplotlib>=1.4.3->seaborn) (1.12.0)\n",
      "Requirement already satisfied: setuptools in /usr/local/lib/python3.6/dist-packages (from kiwisolver>=1.0.1->matplotlib>=1.4.3->seaborn) (41.2.0)\n"
     ]
    }
   ],
   "source": [
    "!pip install matplotlib==3.0.3\n",
    "!pip install seaborn"
   ]
  },
  {
   "cell_type": "code",
   "execution_count": 37,
   "metadata": {
    "colab": {
     "base_uri": "https://localhost:8080/",
     "height": 34
    },
    "colab_type": "code",
    "executionInfo": {
     "elapsed": 569,
     "status": "ok",
     "timestamp": 1568991192947,
     "user": {
      "displayName": "Ekaterina Enikeeva",
      "photoUrl": "https://lh3.googleusercontent.com/a-/AAuE7mDpPi2nAYgMUpBsdQCKgNbc8_vU2k6n8XpypQKMzA=s64",
      "userId": "10839941398806369136"
     },
     "user_tz": -180
    },
    "id": "i0ErpduK3Ipn",
    "outputId": "41904f7f-c2f2-42ff-bbd9-3eedcb6bd377"
   },
   "outputs": [
    {
     "name": "stdout",
     "output_type": "stream",
     "text": [
      "Populating the interactive namespace from numpy and matplotlib\n"
     ]
    }
   ],
   "source": [
    "from sklearn import pipeline\n",
    "from sklearn import naive_bayes\n",
    "import numpy as np\n",
    "\n",
    "%pylab inline\n",
    "import matplotlib.pyplot as plt\n",
    "import seaborn as sns"
   ]
  },
  {
   "cell_type": "code",
   "execution_count": 0,
   "metadata": {
    "colab": {},
    "colab_type": "code",
    "id": "ManAEc9n3Ipo"
   },
   "outputs": [],
   "source": [
    "clf = pipeline.Pipeline([\n",
    "    ('vctr', feature_extraction.text.TfidfVectorizer(ngram_range=(1, 2), analyzer='char')),\n",
    "    ('clf', naive_bayes.MultinomialNB())\n",
    "])"
   ]
  },
  {
   "cell_type": "code",
   "execution_count": 0,
   "metadata": {
    "colab": {},
    "colab_type": "code",
    "id": "P6h0iZMI3Ipq"
   },
   "outputs": [],
   "source": [
    "all_texts = []\n",
    "lang_indices = []\n",
    "for lang in wiki_texts:\n",
    "    all_texts.extend(wiki_texts[lang])\n",
    "    lang_indices.extend([lang]*len(wiki_texts[lang]))"
   ]
  },
  {
   "cell_type": "code",
   "execution_count": 40,
   "metadata": {
    "colab": {
     "base_uri": "https://localhost:8080/",
     "height": 306
    },
    "colab_type": "code",
    "executionInfo": {
     "elapsed": 1039,
     "status": "ok",
     "timestamp": 1568991240937,
     "user": {
      "displayName": "Ekaterina Enikeeva",
      "photoUrl": "https://lh3.googleusercontent.com/a-/AAuE7mDpPi2nAYgMUpBsdQCKgNbc8_vU2k6n8XpypQKMzA=s64",
      "userId": "10839941398806369136"
     },
     "user_tz": -180
    },
    "id": "cCvMe95v3Ips",
    "outputId": "b30dd417-ba90-4bb3-a475-ceb52d23f460"
   },
   "outputs": [
    {
     "data": {
      "text/plain": [
       "Pipeline(memory=None,\n",
       "         steps=[('vctr',\n",
       "                 TfidfVectorizer(analyzer='char', binary=False,\n",
       "                                 decode_error='strict',\n",
       "                                 dtype=<class 'numpy.float64'>,\n",
       "                                 encoding='utf-8', input='content',\n",
       "                                 lowercase=True, max_df=1.0, max_features=None,\n",
       "                                 min_df=1, ngram_range=(1, 2), norm='l2',\n",
       "                                 preprocessor=None, smooth_idf=True,\n",
       "                                 stop_words=None, strip_accents=None,\n",
       "                                 sublinear_tf=False,\n",
       "                                 token_pattern='(?u)\\\\b\\\\w\\\\w+\\\\b',\n",
       "                                 tokenizer=None, use_idf=True,\n",
       "                                 vocabulary=None)),\n",
       "                ('clf',\n",
       "                 MultinomialNB(alpha=1.0, class_prior=None, fit_prior=True))],\n",
       "         verbose=False)"
      ]
     },
     "execution_count": 40,
     "metadata": {
      "tags": []
     },
     "output_type": "execute_result"
    }
   ],
   "source": [
    "# Обучаем классификатор\n",
    "clf.fit(np.array(all_texts), np.array(lang_indices))"
   ]
  },
  {
   "cell_type": "code",
   "execution_count": 41,
   "metadata": {
    "colab": {
     "base_uri": "https://localhost:8080/",
     "height": 391
    },
    "colab_type": "code",
    "executionInfo": {
     "elapsed": 855,
     "status": "ok",
     "timestamp": 1568991261666,
     "user": {
      "displayName": "Ekaterina Enikeeva",
      "photoUrl": "https://lh3.googleusercontent.com/a-/AAuE7mDpPi2nAYgMUpBsdQCKgNbc8_vU2k6n8XpypQKMzA=s64",
      "userId": "10839941398806369136"
     },
     "user_tz": -180
    },
    "id": "Vk-znp6f3Ipt",
    "outputId": "a495ed4c-bdcc-4eb1-86f5-02c7192dce4d"
   },
   "outputs": [
    {
     "data": {
      "text/plain": [
       "array(['kk', 'kk', 'kk', 'kk', 'kk', 'kk', 'kk', 'kk', 'kk', 'kk', 'kk',\n",
       "       'kk', 'fr', 'kk', 'kk', 'kk', 'kk', 'kk', 'kk', 'kk', 'kk', 'kk',\n",
       "       'kk', 'kk', 'kk', 'kk', 'kk', 'kk', 'kk', 'kk', 'kk', 'kk', 'kk',\n",
       "       'kk', 'kk', 'kk', 'kk', 'kk', 'kk', 'kk', 'kk', 'kk', 'kk', 'kk',\n",
       "       'kk', 'kk', 'kk', 'kk', 'kk', 'kk', 'ru', 'ru', 'ru', 'ru', 'ru',\n",
       "       'ru', 'ru', 'ru', 'ru', 'ru', 'ru', 'ru', 'ru', 'ru', 'ru', 'ru',\n",
       "       'ru', 'ru', 'ru', 'ru', 'ru', 'ru', 'ru', 'ru', 'ru', 'ru', 'ru',\n",
       "       'ru', 'ru', 'ru', 'ru', 'ru', 'ru', 'ru', 'ru', 'ru', 'ru', 'ru',\n",
       "       'ru', 'ru', 'ru', 'ru', 'ru', 'ru', 'ru', 'ru', 'ru', 'uk', 'uk',\n",
       "       'uk', 'uk', 'uk', 'uk', 'uk', 'uk', 'uk', 'uk', 'uk', 'uk', 'uk',\n",
       "       'uk', 'uk', 'uk', 'uk', 'uk', 'uk', 'uk', 'uk', 'uk', 'uk', 'uk',\n",
       "       'uk', 'uk', 'uk', 'fr', 'uk', 'uk', 'uk', 'uk', 'uk', 'uk', 'uk',\n",
       "       'uk', 'uk', 'uk', 'uk', 'uk', 'uk', 'uk', 'uk', 'uk', 'uk', 'uk',\n",
       "       'be', 'be', 'be', 'be', 'be', 'be', 'be', 'be', 'be', 'be', 'be',\n",
       "       'be', 'be', 'be', 'be', 'be', 'be', 'be', 'be', 'be', 'be', 'be',\n",
       "       'be', 'be', 'be', 'be', 'be', 'be', 'be', 'be', 'be', 'be', 'ru',\n",
       "       'be', 'be', 'be', 'be', 'be', 'be', 'be', 'be', 'be', 'be', 'be',\n",
       "       'be', 'be', 'fr', 'fr', 'fr', 'fr', 'fr', 'fr', 'fr', 'fr', 'fr',\n",
       "       'fr', 'fr', 'fr', 'fr', 'fr', 'fr', 'fr', 'fr', 'fr', 'fr', 'fr',\n",
       "       'fr', 'fr', 'fr', 'fr', 'fr', 'fr', 'fr', 'fr', 'fr', 'fr', 'fr',\n",
       "       'fr', 'fr', 'fr', 'fr', 'fr', 'fr', 'fr', 'fr', 'fr', 'fr', 'fr',\n",
       "       'fr', 'fr', 'fr', 'fr', 'fr', 'fr', 'fr', 'fr'], dtype='<U2')"
      ]
     },
     "execution_count": 41,
     "metadata": {
      "tags": []
     },
     "output_type": "execute_result"
    }
   ],
   "source": [
    "# Предсказываем результаты для тех же текстов\n",
    "clf.predict(all_texts)"
   ]
  },
  {
   "cell_type": "code",
   "execution_count": 42,
   "metadata": {
    "colab": {
     "base_uri": "https://localhost:8080/",
     "height": 51
    },
    "colab_type": "code",
    "executionInfo": {
     "elapsed": 7588,
     "status": "ok",
     "timestamp": 1568991284256,
     "user": {
      "displayName": "Ekaterina Enikeeva",
      "photoUrl": "https://lh3.googleusercontent.com/a-/AAuE7mDpPi2nAYgMUpBsdQCKgNbc8_vU2k6n8XpypQKMzA=s64",
      "userId": "10839941398806369136"
     },
     "user_tz": -180
    },
    "id": "bM-uxf993Ipv",
    "outputId": "525d221a-d03f-4891-842d-5375b4c4a729"
   },
   "outputs": [
    {
     "data": {
      "text/plain": [
       "array(['be', 'be', 'be', 'be', 'be', 'be', 'be', 'be', 'be', 'be'],\n",
       "      dtype='<U2')"
      ]
     },
     "execution_count": 42,
     "metadata": {
      "tags": []
     },
     "output_type": "execute_result"
    }
   ],
   "source": [
    "# Скачиваем новые тексты из вики и предсказываем еще раз\n",
    "clf.predict(get_texts_for_lang('be'))"
   ]
  },
  {
   "cell_type": "code",
   "execution_count": 0,
   "metadata": {
    "colab": {},
    "colab_type": "code",
    "id": "DeoUXwXe3Ipw"
   },
   "outputs": [],
   "source": [
    "# Поделим корпус на train и test\n",
    "from sklearn.model_selection import train_test_split\n",
    "from sklearn import metrics\n",
    "\n",
    "X_train, X_test, y_train, y_test = train_test_split(all_texts,\n",
    "                                                    lang_indices,\n",
    "                                                    test_size=0.2,\n",
    "                                                    random_state=0)\n",
    "clf.fit(X_train, y_train)\n",
    "y_predicted = clf.predict(X_test)\n",
    "cm = metrics.confusion_matrix(y_test, y_predicted)"
   ]
  },
  {
   "cell_type": "code",
   "execution_count": 44,
   "metadata": {
    "colab": {
     "base_uri": "https://localhost:8080/",
     "height": 122
    },
    "colab_type": "code",
    "executionInfo": {
     "elapsed": 550,
     "status": "ok",
     "timestamp": 1568991372644,
     "user": {
      "displayName": "Ekaterina Enikeeva",
      "photoUrl": "https://lh3.googleusercontent.com/a-/AAuE7mDpPi2nAYgMUpBsdQCKgNbc8_vU2k6n8XpypQKMzA=s64",
      "userId": "10839941398806369136"
     },
     "user_tz": -180
    },
    "id": "jJDrn7gp3Ipy",
    "outputId": "b1a85a3b-676b-460a-d4a2-057712f7242a"
   },
   "outputs": [
    {
     "name": "stdout",
     "output_type": "stream",
     "text": [
      "['be' 'be' 'uk' 'uk' 'uk' 'fr' 'uk' 'fr' 'kk' 'fr' 'uk' 'be' 'fr' 'uk'\n",
      " 'be' 'be' 'be' 'ru' 'be' 'kk' 'ru' 'ru' 'ru' 'kk' 'kk' 'kk' 'be' 'fr'\n",
      " 'uk' 'ru' 'fr' 'uk' 'fr' 'fr' 'kk' 'be' 'be' 'fr' 'ru' 'uk' 'ru' 'kk'\n",
      " 'be' 'kk' 'ru' 'kk' 'fr' 'be']\n",
      "['be', 'be', 'uk', 'uk', 'uk', 'fr', 'uk', 'fr', 'kk', 'fr', 'uk', 'be', 'fr', 'uk', 'be', 'be', 'be', 'uk', 'be', 'kk', 'ru', 'ru', 'ru', 'kk', 'kk', 'kk', 'be', 'kk', 'uk', 'uk', 'fr', 'uk', 'fr', 'fr', 'kk', 'be', 'be', 'fr', 'ru', 'uk', 'ru', 'kk', 'be', 'kk', 'ru', 'kk', 'fr', 'be']\n"
     ]
    }
   ],
   "source": [
    "print(y_predicted)\n",
    "print(y_test)"
   ]
  },
  {
   "cell_type": "code",
   "execution_count": 0,
   "metadata": {
    "colab": {},
    "colab_type": "code",
    "id": "ZQKO9WDx3Ipz"
   },
   "outputs": [],
   "source": [
    "# Нарисуем confusion matrix и оценим качество\n",
    "def test_classify(y_test, y_predicted, label_names):\n",
    "    cm = metrics.confusion_matrix(y_test, y_predicted)\n",
    "    \n",
    "    plt.figure(figsize=(10, 10))\n",
    "    plt.ylim(10.5, -0.5)\n",
    "    sns.heatmap(cm, annot=True,  fmt='', xticklabels=label_names, yticklabels=label_names)\n",
    "    plt.title('Confusion Matrix')\n",
    "    \n",
    "    print(metrics.classification_report(y_test, y_predicted,\n",
    "                                        target_names=label_names))"
   ]
  },
  {
   "cell_type": "code",
   "execution_count": 46,
   "metadata": {
    "colab": {
     "base_uri": "https://localhost:8080/",
     "height": 811
    },
    "colab_type": "code",
    "executionInfo": {
     "elapsed": 1071,
     "status": "ok",
     "timestamp": 1568991388247,
     "user": {
      "displayName": "Ekaterina Enikeeva",
      "photoUrl": "https://lh3.googleusercontent.com/a-/AAuE7mDpPi2nAYgMUpBsdQCKgNbc8_vU2k6n8XpypQKMzA=s64",
      "userId": "10839941398806369136"
     },
     "user_tz": -180
    },
    "id": "GvUkK9oz3Ip0",
    "outputId": "b637536b-0c45-4787-c7b6-c33023106a51"
   },
   "outputs": [
    {
     "name": "stdout",
     "output_type": "stream",
     "text": [
      "              precision    recall  f1-score   support\n",
      "\n",
      "          be       1.00      1.00      1.00        12\n",
      "          fr       0.90      1.00      0.95         9\n",
      "          kk       1.00      0.90      0.95        10\n",
      "          ru       0.75      1.00      0.86         6\n",
      "          uk       1.00      0.82      0.90        11\n",
      "\n",
      "    accuracy                           0.94        48\n",
      "   macro avg       0.93      0.94      0.93        48\n",
      "weighted avg       0.95      0.94      0.94        48\n",
      "\n"
     ]
    },
    {
     "data": {
      "image/png": "[encoded data removed]",
      "text/plain": [
       "<Figure size 720x720 with 2 Axes>"
      ]
     },
     "metadata": {
      "tags": []
     },
     "output_type": "display_data"
    }
   ],
   "source": [
    "test_classify(y_test, y_predicted, clf.classes_)"
   ]
  },
  {
   "cell_type": "code",
   "execution_count": 47,
   "metadata": {
    "colab": {
     "base_uri": "https://localhost:8080/",
     "height": 811
    },
    "colab_type": "code",
    "executionInfo": {
     "elapsed": 840,
     "status": "ok",
     "timestamp": 1568991497246,
     "user": {
      "displayName": "Ekaterina Enikeeva",
      "photoUrl": "https://lh3.googleusercontent.com/a-/AAuE7mDpPi2nAYgMUpBsdQCKgNbc8_vU2k6n8XpypQKMzA=s64",
      "userId": "10839941398806369136"
     },
     "user_tz": -180
    },
    "id": "0VjSFWhX3Ip1",
    "outputId": "2503d518-8aca-4343-e539-75d0cb36438c"
   },
   "outputs": [
    {
     "name": "stdout",
     "output_type": "stream",
     "text": [
      "              precision    recall  f1-score   support\n",
      "\n",
      "          be       1.00      0.50      0.67        12\n",
      "          fr       0.75      1.00      0.86         9\n",
      "          kk       0.83      0.50      0.62        10\n",
      "          ru       0.27      1.00      0.43         6\n",
      "          uk       0.50      0.09      0.15        11\n",
      "\n",
      "    accuracy                           0.56        48\n",
      "   macro avg       0.67      0.62      0.55        48\n",
      "weighted avg       0.71      0.56      0.55        48\n",
      "\n"
     ]
    },
    {
     "data": {
      "image/png": "[encoded data removed]",
      "text/plain": [
       "<Figure size 720x720 with 2 Axes>"
      ]
     },
     "metadata": {
      "tags": []
     },
     "output_type": "display_data"
    }
   ],
   "source": [
    "# Проверим на случайных отрывках из тестовых текстов\n",
    "import random\n",
    "\n",
    "small_texts = []\n",
    "for text in X_test:\n",
    "    begin = random.randint(0, len(text) - 10)\n",
    "    small_texts.append(text[begin:begin+10])\n",
    "y_predicted_small = clf.predict(small_texts)\n",
    "test_classify(y_test, y_predicted_small, clf.classes_)"
   ]
  },
  {
   "cell_type": "code",
   "execution_count": 0,
   "metadata": {
    "colab": {},
    "colab_type": "code",
    "id": "SMuJP3Tp3Ip3"
   },
   "outputs": [],
   "source": []
  }
 ],
 "metadata": {
  "colab": {
   "collapsed_sections": [],
   "name": "2_Language_Detection.ipynb",
   "provenance": []
  },
  "kernelspec": {
   "display_name": "Python 3",
   "language": "python",
   "name": "python3"
  },
  "language_info": {
   "codemirror_mode": {
    "name": "ipython",
    "version": 3
   },
   "file_extension": ".py",
   "mimetype": "text/x-python",
   "name": "python",
   "nbconvert_exporter": "python",
   "pygments_lexer": "ipython3",
   "version": "3.6.8"
  }
 },
 "nbformat": 4,
 "nbformat_minor": 1
}
